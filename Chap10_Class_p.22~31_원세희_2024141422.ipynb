{
 "cells": [
  {
   "cell_type": "code",
   "execution_count": 3,
   "id": "3fa37ad8-fd98-48d9-ba91-72bff849bbf8",
   "metadata": {},
   "outputs": [],
   "source": [
    "class Service:\n",
    "    secret = \"지구는 4006년에 멸망한다.\"\n",
    "    def __init__(self, name): #맨처음에 객체를 부를때, 호출하지않았어도 알아서 불러짐\n",
    "        self.name = name \n",
    "    def sum(self, a, b):\n",
    "        result = a+b\n",
    "        print (\"%s님, %s + %s = %s입니다.\" % (self.name, a, b, result))"
   ]
  },
  {
   "cell_type": "code",
   "execution_count": 4,
   "id": "084475c9-0324-4793-ba55-a2cdb90340a0",
   "metadata": {},
   "outputs": [],
   "source": [
    "an = Service(\"샐리\") #알아서 불러와지니까 이름을 바로 넣어줌, 안넣으면 오류남 "
   ]
  },
  {
   "cell_type": "code",
   "execution_count": 5,
   "id": "7eb6ec09-2d4c-4b05-94a5-b1daf9faee51",
   "metadata": {},
   "outputs": [
    {
     "name": "stdout",
     "output_type": "stream",
     "text": [
      "샐리님, 1 + 1 = 2입니다.\n"
     ]
    }
   ],
   "source": [
    "an.sum(1,1)"
   ]
  },
  {
   "cell_type": "code",
   "execution_count": null,
   "id": "365c40c6-89d9-44ed-8cfe-da6bdf0242e6",
   "metadata": {},
   "outputs": [],
   "source": []
  },
  {
   "cell_type": "code",
   "execution_count": 26,
   "id": "fdc8ee89-b480-4c19-b10f-fab1a50f5019",
   "metadata": {},
   "outputs": [],
   "source": [
    "class FourCal:\n",
    "    def setdata(self, first, second):\n",
    "        self.first = first\n",
    "        self.second = second\n",
    "        \n",
    "    def sum(self):\n",
    "        result = self.first + self.second\n",
    "        return result\n",
    "\n",
    "    def mul(self):\n",
    "        result = self.first * self.second\n",
    "        return result\n",
    "        \n",
    "    def sub(self):\n",
    "        result = self.first - self.second\n",
    "        return result\n",
    "        \n",
    "    def div(self):\n",
    "        result = self.first / self.second\n",
    "        return result\n",
    "    "
   ]
  },
  {
   "cell_type": "code",
   "execution_count": 27,
   "id": "90ce179d-4820-43c7-8f25-5fc1b88ca793",
   "metadata": {},
   "outputs": [],
   "source": [
    "a = FourCal()"
   ]
  },
  {
   "cell_type": "code",
   "execution_count": 11,
   "id": "af71bbf4-f774-4b65-a158-563ffb779261",
   "metadata": {},
   "outputs": [
    {
     "name": "stdout",
     "output_type": "stream",
     "text": [
      "<class '__main__.FourCal'>\n"
     ]
    }
   ],
   "source": [
    "print(type(a))"
   ]
  },
  {
   "cell_type": "code",
   "execution_count": 28,
   "id": "e0d72e41-43d7-4267-b2ac-58e11a56f012",
   "metadata": {},
   "outputs": [],
   "source": [
    "a.setdata(4,2)"
   ]
  },
  {
   "cell_type": "code",
   "execution_count": 19,
   "id": "0797ca90-d8a5-4b6e-934a-4a908edb8327",
   "metadata": {},
   "outputs": [
    {
     "data": {
      "text/plain": [
       "4"
      ]
     },
     "execution_count": 19,
     "metadata": {},
     "output_type": "execute_result"
    }
   ],
   "source": [
    "a.first"
   ]
  },
  {
   "cell_type": "code",
   "execution_count": 20,
   "id": "2e94cfc1-7ea0-4919-a56f-20a2d2ffe5dc",
   "metadata": {},
   "outputs": [
    {
     "data": {
      "text/plain": [
       "2"
      ]
     },
     "execution_count": 20,
     "metadata": {},
     "output_type": "execute_result"
    }
   ],
   "source": [
    "a.second"
   ]
  },
  {
   "cell_type": "code",
   "execution_count": 29,
   "id": "ad1acf38-05a4-43ab-baeb-0b9be8e55a76",
   "metadata": {},
   "outputs": [
    {
     "name": "stdout",
     "output_type": "stream",
     "text": [
      "6\n"
     ]
    }
   ],
   "source": [
    "print(a.sum())"
   ]
  },
  {
   "cell_type": "code",
   "execution_count": 30,
   "id": "cdd539a6-407f-4ff2-8650-83b9dc56906f",
   "metadata": {},
   "outputs": [
    {
     "data": {
      "text/plain": [
       "8"
      ]
     },
     "execution_count": 30,
     "metadata": {},
     "output_type": "execute_result"
    }
   ],
   "source": [
    "a.mul()"
   ]
  },
  {
   "cell_type": "code",
   "execution_count": 31,
   "id": "f638df9a-365c-48b1-9c99-b4e47d019f23",
   "metadata": {},
   "outputs": [
    {
     "data": {
      "text/plain": [
       "2"
      ]
     },
     "execution_count": 31,
     "metadata": {},
     "output_type": "execute_result"
    }
   ],
   "source": [
    "a.sub()"
   ]
  },
  {
   "cell_type": "code",
   "execution_count": 32,
   "id": "1d75705b-7150-48a0-9e9d-9a8517a70c19",
   "metadata": {},
   "outputs": [
    {
     "data": {
      "text/plain": [
       "2.0"
      ]
     },
     "execution_count": 32,
     "metadata": {},
     "output_type": "execute_result"
    }
   ],
   "source": [
    "a.div()"
   ]
  },
  {
   "cell_type": "code",
   "execution_count": 33,
   "id": "4b58562a-5d82-47c1-8ea6-f5f72fb5dbfd",
   "metadata": {},
   "outputs": [],
   "source": [
    "b=FourCal()"
   ]
  },
  {
   "cell_type": "code",
   "execution_count": 34,
   "id": "0f546c34-c71d-4a9a-aafd-3a6050aa4725",
   "metadata": {},
   "outputs": [],
   "source": [
    "b.setdata(3,7)"
   ]
  },
  {
   "cell_type": "code",
   "execution_count": 35,
   "id": "68d7ccc9-09eb-446e-9a3c-c23d066802f0",
   "metadata": {},
   "outputs": [
    {
     "data": {
      "text/plain": [
       "6"
      ]
     },
     "execution_count": 35,
     "metadata": {},
     "output_type": "execute_result"
    }
   ],
   "source": [
    "a.sum()"
   ]
  },
  {
   "cell_type": "code",
   "execution_count": 36,
   "id": "7c121c83-e481-4f87-9b84-fdca746dcf1e",
   "metadata": {},
   "outputs": [
    {
     "data": {
      "text/plain": [
       "8"
      ]
     },
     "execution_count": 36,
     "metadata": {},
     "output_type": "execute_result"
    }
   ],
   "source": [
    "a.mul()"
   ]
  },
  {
   "cell_type": "code",
   "execution_count": 37,
   "id": "7404541d-ad06-4b89-8b9f-e368c186232e",
   "metadata": {},
   "outputs": [
    {
     "data": {
      "text/plain": [
       "2"
      ]
     },
     "execution_count": 37,
     "metadata": {},
     "output_type": "execute_result"
    }
   ],
   "source": [
    "a.sub()"
   ]
  },
  {
   "cell_type": "code",
   "execution_count": 38,
   "id": "87b04e88-e964-4538-b311-9258ee41cc8f",
   "metadata": {},
   "outputs": [
    {
     "data": {
      "text/plain": [
       "2.0"
      ]
     },
     "execution_count": 38,
     "metadata": {},
     "output_type": "execute_result"
    }
   ],
   "source": [
    "a.div()"
   ]
  },
  {
   "cell_type": "code",
   "execution_count": 39,
   "id": "0820e959-12e1-49cf-a949-3fd1b746c206",
   "metadata": {},
   "outputs": [
    {
     "data": {
      "text/plain": [
       "-4"
      ]
     },
     "execution_count": 39,
     "metadata": {},
     "output_type": "execute_result"
    }
   ],
   "source": [
    "b.sub()"
   ]
  },
  {
   "cell_type": "code",
   "execution_count": null,
   "id": "1f07badc-691e-4d84-9520-24fbc16d6725",
   "metadata": {},
   "outputs": [],
   "source": []
  },
  {
   "cell_type": "code",
   "execution_count": null,
   "id": "0e689cfb-e0cc-4237-acda-42cb262e52cd",
   "metadata": {},
   "outputs": [],
   "source": [
    "#주사위게임"
   ]
  },
  {
   "cell_type": "code",
   "execution_count": 40,
   "id": "876f7798-caef-4a63-8dd8-9cfec4612d68",
   "metadata": {},
   "outputs": [],
   "source": [
    "import random\n",
    "\n",
    "player1_dice = []\n",
    "player2_dice = []\n",
    "\n",
    "for i in range(3):\n",
    "    player1_dice.append(random.randint(1, 6))\n",
    "    player2_dice.append(random.randint(1, 6))\n"
   ]
  },
  {
   "cell_type": "code",
   "execution_count": 41,
   "id": "a0c7e096-6998-4e69-990b-08af947723f5",
   "metadata": {},
   "outputs": [
    {
     "name": "stdout",
     "output_type": "stream",
     "text": [
      "Player 1 rolled [1, 3, 4]\n",
      "Player 2 rolled [3, 4, 3]\n"
     ]
    }
   ],
   "source": [
    "print(\"Player 1 rolled \" + str(player1_dice))\n",
    "print(\"Player 2 rolled \" + str(player2_dice))"
   ]
  },
  {
   "cell_type": "code",
   "execution_count": 42,
   "id": "f288f6aa-b1ae-45b3-9ddb-da9a8c6feee5",
   "metadata": {},
   "outputs": [
    {
     "name": "stdout",
     "output_type": "stream",
     "text": [
      "Player 2 wins\n"
     ]
    }
   ],
   "source": [
    "if sum(player1_dice) == sum(player2_dice):\n",
    "    print(\"Draw\")\n",
    "elif sum(player1_dice) > sum(player2_dice):\n",
    "    print(\"Player 1 wins\")\n",
    "else:\n",
    "    print(\"Player 2 wins\")"
   ]
  },
  {
   "cell_type": "code",
   "execution_count": 43,
   "id": "56ba92c6-2278-49ad-981b-d63c21de3c38",
   "metadata": {},
   "outputs": [],
   "source": [
    "from random import randint\n",
    "\n",
    "class Player:\n",
    "    def __init__(self):\n",
    "        self.dice = []\n",
    "\n",
    "    def roll(self):\n",
    "        self.dice = []  # clears current dice\n",
    "        for i in range(3):\n",
    "            self.dice.append(randint(1, 6))\n",
    "\n",
    "    def get_dice(self):\n",
    "        return self.dice"
   ]
  },
  {
   "cell_type": "code",
   "execution_count": 46,
   "id": "63068639-cfa8-4d96-bba0-03a1e2aa2721",
   "metadata": {},
   "outputs": [],
   "source": [
    "player1 = Player()"
   ]
  },
  {
   "cell_type": "code",
   "execution_count": 47,
   "id": "f92785f7-d1f0-4f0e-96df-afea0093ab94",
   "metadata": {},
   "outputs": [],
   "source": [
    "player2 = Player()"
   ]
  },
  {
   "cell_type": "code",
   "execution_count": 48,
   "id": "f2fbd8b0-b185-467d-873a-67cd659404dd",
   "metadata": {},
   "outputs": [],
   "source": [
    "player1.roll()"
   ]
  },
  {
   "cell_type": "code",
   "execution_count": 49,
   "id": "414b369b-7ed2-4dce-8a2f-14788f6d9801",
   "metadata": {},
   "outputs": [],
   "source": [
    "player2.roll()"
   ]
  },
  {
   "cell_type": "code",
   "execution_count": 50,
   "id": "69b12cbd-141a-4d30-9f65-1695edfdc31c",
   "metadata": {},
   "outputs": [
    {
     "name": "stdout",
     "output_type": "stream",
     "text": [
      "Player 1 rolled [4, 6, 2]\n",
      "Player 2 rolled [3, 4, 2]\n"
     ]
    }
   ],
   "source": [
    "print(\"Player 1 rolled \" + str(player1.get_dice()))\n",
    "print(\"Player 2 rolled \" + str(player2.get_dice()))"
   ]
  },
  {
   "cell_type": "code",
   "execution_count": 51,
   "id": "5f791946-77c9-4005-af1a-27eb75f2a79a",
   "metadata": {},
   "outputs": [
    {
     "name": "stdout",
     "output_type": "stream",
     "text": [
      "Player 1 wins!\n"
     ]
    }
   ],
   "source": [
    "if sum(player1.get_dice()) == sum(player2.get_dice()):\n",
    "    print(\"Draw!\")\n",
    "elif sum(player1.get_dice()) > sum(player2.get_dice()):\n",
    "    print(\"Player 1 wins!\")\n",
    "else:\n",
    "    print(\"Player 2 wins!\")"
   ]
  },
  {
   "cell_type": "code",
   "execution_count": null,
   "id": "3d94698b-8f89-4e24-9aa2-b9e48fd6eac0",
   "metadata": {},
   "outputs": [],
   "source": []
  }
 ],
 "metadata": {
  "kernelspec": {
   "display_name": "Python 3 (ipykernel)",
   "language": "python",
   "name": "python3"
  },
  "language_info": {
   "codemirror_mode": {
    "name": "ipython",
    "version": 3
   },
   "file_extension": ".py",
   "mimetype": "text/x-python",
   "name": "python",
   "nbconvert_exporter": "python",
   "pygments_lexer": "ipython3",
   "version": "3.13.2"
  }
 },
 "nbformat": 4,
 "nbformat_minor": 5
}
