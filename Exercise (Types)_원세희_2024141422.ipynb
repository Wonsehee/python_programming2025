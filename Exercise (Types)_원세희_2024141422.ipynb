{
 "cells": [
  {
   "cell_type": "code",
   "execution_count": null,
   "id": "dae521ce-0e79-4a44-8e60-4d090a741cc2",
   "metadata": {},
   "outputs": [],
   "source": [
    "#원세희 2024141422"
   ]
  },
  {
   "cell_type": "code",
   "execution_count": null,
   "id": "61793342-bb89-4964-81ae-c46a06323451",
   "metadata": {},
   "outputs": [],
   "source": []
  },
  {
   "cell_type": "code",
   "execution_count": null,
   "id": "4149e3b2-d96d-4469-b69d-76d697611ed4",
   "metadata": {},
   "outputs": [],
   "source": [
    "#Exercise 1 (Types): Your First Program"
   ]
  },
  {
   "cell_type": "code",
   "execution_count": 3,
   "id": "38cc76cc-6188-477a-ae34-47a22ca36916",
   "metadata": {},
   "outputs": [
    {
     "name": "stdout",
     "output_type": "stream",
     "text": [
      "Hello, world!\n"
     ]
    }
   ],
   "source": [
    "print(\"Hello, world!\")"
   ]
  },
  {
   "cell_type": "code",
   "execution_count": 4,
   "id": "9437cff3-677e-4757-9b58-229e7984351c",
   "metadata": {},
   "outputs": [
    {
     "name": "stdout",
     "output_type": "stream",
     "text": [
      "Hello, world!\n"
     ]
    }
   ],
   "source": [
    "print(\"Hello, world!\") # Print the traditional hello world"
   ]
  },
  {
   "cell_type": "code",
   "execution_count": null,
   "id": "87260795-f0bc-4bca-9de7-fb510c27cf27",
   "metadata": {},
   "outputs": [],
   "source": []
  },
  {
   "cell_type": "code",
   "execution_count": null,
   "id": "6928f7aa-01bd-4536-b367-cec70e42264c",
   "metadata": {},
   "outputs": [],
   "source": [
    "#Exercise 2 (Types): Get the object type"
   ]
  },
  {
   "cell_type": "code",
   "execution_count": 1,
   "id": "0a4c2db3-2016-4d27-8cd1-3bb1a7b6a6d9",
   "metadata": {},
   "outputs": [
    {
     "data": {
      "text/plain": [
       "float"
      ]
     },
     "execution_count": 1,
     "metadata": {},
     "output_type": "execute_result"
    }
   ],
   "source": [
    "type(12.0)"
   ]
  },
  {
   "cell_type": "code",
   "execution_count": null,
   "id": "ad3828af-47a2-4460-bec5-11a5d27d4fbd",
   "metadata": {},
   "outputs": [],
   "source": []
  },
  {
   "cell_type": "code",
   "execution_count": null,
   "id": "7a060fcf-a652-4e01-9f21-2ea95adc6e35",
   "metadata": {},
   "outputs": [],
   "source": [
    "#Exercise 3 (Types): Types"
   ]
  },
  {
   "cell_type": "code",
   "execution_count": 2,
   "id": "4d59041a-1e32-45d8-9b76-0280c3d057c6",
   "metadata": {},
   "outputs": [
    {
     "data": {
      "text/plain": [
       "float"
      ]
     },
     "execution_count": 2,
     "metadata": {},
     "output_type": "execute_result"
    }
   ],
   "source": [
    "type(6/2) # float"
   ]
  },
  {
   "cell_type": "code",
   "execution_count": 3,
   "id": "87eb283c-845e-47b2-9e01-a8f10b1cd7a1",
   "metadata": {},
   "outputs": [
    {
     "data": {
      "text/plain": [
       "int"
      ]
     },
     "execution_count": 3,
     "metadata": {},
     "output_type": "execute_result"
    }
   ],
   "source": [
    "type(6//2) # int, as the double slashes stand for integer division"
   ]
  },
  {
   "cell_type": "code",
   "execution_count": null,
   "id": "6e3db2fb-bda3-44c4-943a-80092affe1d7",
   "metadata": {},
   "outputs": [],
   "source": []
  },
  {
   "cell_type": "code",
   "execution_count": null,
   "id": "54efe8c0-6948-4fbe-a484-f7137b12e1a6",
   "metadata": {},
   "outputs": [],
   "source": [
    "#Exercise 4 (Types): Expression"
   ]
  },
  {
   "cell_type": "code",
   "execution_count": 4,
   "id": "65ddf3c6-1c71-4049-92b6-4e826f0d76b6",
   "metadata": {},
   "outputs": [
    {
     "data": {
      "text/plain": [
       "2"
      ]
     },
     "execution_count": 4,
     "metadata": {},
     "output_type": "execute_result"
    }
   ],
   "source": [
    "160/60\n",
    "# Or\n",
    "160//60"
   ]
  },
  {
   "cell_type": "code",
   "execution_count": null,
   "id": "2f28566c-11b9-4883-b347-a6757354eaf3",
   "metadata": {},
   "outputs": [],
   "source": []
  },
  {
   "cell_type": "code",
   "execution_count": null,
   "id": "e512a6d8-a9ab-436f-8e4b-f94cef4fa94e",
   "metadata": {},
   "outputs": [],
   "source": [
    "#Exercise 5 (Types): Expression and Variables in Python"
   ]
  },
  {
   "cell_type": "code",
   "execution_count": null,
   "id": "e1689961-0c06-4d7b-bc07-c4726d453619",
   "metadata": {},
   "outputs": [],
   "source": [
    "7"
   ]
  },
  {
   "cell_type": "code",
   "execution_count": null,
   "id": "06ffd718-054e-4492-8eb8-5f63c9308e08",
   "metadata": {},
   "outputs": [],
   "source": [
    "10"
   ]
  },
  {
   "cell_type": "code",
   "execution_count": null,
   "id": "199858fe-d3d1-4b96-849d-13961ac2d4eb",
   "metadata": {},
   "outputs": [],
   "source": [
    "17"
   ]
  }
 ],
 "metadata": {
  "kernelspec": {
   "display_name": "Python 3 (ipykernel)",
   "language": "python",
   "name": "python3"
  },
  "language_info": {
   "codemirror_mode": {
    "name": "ipython",
    "version": 3
   },
   "file_extension": ".py",
   "mimetype": "text/x-python",
   "name": "python",
   "nbconvert_exporter": "python",
   "pygments_lexer": "ipython3",
   "version": "3.13.2"
  }
 },
 "nbformat": 4,
 "nbformat_minor": 5
}
