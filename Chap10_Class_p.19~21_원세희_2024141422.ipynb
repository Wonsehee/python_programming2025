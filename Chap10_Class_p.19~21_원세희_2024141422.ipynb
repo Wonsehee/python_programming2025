{
 "cells": [
  {
   "cell_type": "code",
   "execution_count": 1,
   "id": "3fa37ad8-fd98-48d9-ba91-72bff849bbf8",
   "metadata": {},
   "outputs": [],
   "source": [
    "class Service:\n",
    "    secret = \"지구는 4006년에 멸망한다.\"\n",
    "    def setname(self, name): #매개변수\n",
    "        self.name = name #클래스 안에 객채변수로써 정의된 name, 위에꺼랑 다름\n",
    "    def sum(self, a, b):\n",
    "        result = a+b\n",
    "        print (\"%s님, %s + %s = %s입니다.\" % (self.name, a, b, result))"
   ]
  },
  {
   "cell_type": "code",
   "execution_count": 2,
   "id": "e7c17dd1-eefd-4fff-aa3f-ebf9689d861d",
   "metadata": {},
   "outputs": [],
   "source": [
    "an = Service()"
   ]
  },
  {
   "cell_type": "code",
   "execution_count": 3,
   "id": "8dd80e71-3228-47e0-9cc6-d158279d9a10",
   "metadata": {},
   "outputs": [],
   "source": [
    "an.setname(\"박달도사\")"
   ]
  },
  {
   "cell_type": "code",
   "execution_count": 4,
   "id": "bbd56ece-38a9-4fce-90f2-2f00ea240dfa",
   "metadata": {},
   "outputs": [
    {
     "name": "stdout",
     "output_type": "stream",
     "text": [
      "박달도사님, 1 + 1 = 2입니다.\n"
     ]
    }
   ],
   "source": [
    "an.sum(1,1)"
   ]
  },
  {
   "cell_type": "code",
   "execution_count": 5,
   "id": "f185ec19-6d23-41db-ae29-02957db1fc8c",
   "metadata": {},
   "outputs": [],
   "source": [
    "lee = Service()"
   ]
  },
  {
   "cell_type": "code",
   "execution_count": 6,
   "id": "2094ccae-aa19-45d5-9d47-b134845603b0",
   "metadata": {},
   "outputs": [
    {
     "ename": "AttributeError",
     "evalue": "'Service' object has no attribute 'name'",
     "output_type": "error",
     "traceback": [
      "\u001b[31m---------------------------------------------------------------------------\u001b[39m",
      "\u001b[31mAttributeError\u001b[39m                            Traceback (most recent call last)",
      "\u001b[36mCell\u001b[39m\u001b[36m \u001b[39m\u001b[32mIn[6]\u001b[39m\u001b[32m, line 1\u001b[39m\n\u001b[32m----> \u001b[39m\u001b[32m1\u001b[39m \u001b[43mlee\u001b[49m\u001b[43m.\u001b[49m\u001b[43msum\u001b[49m\u001b[43m(\u001b[49m\u001b[32;43m1\u001b[39;49m\u001b[43m,\u001b[49m\u001b[32;43m1\u001b[39;49m\u001b[43m)\u001b[49m\n",
      "\u001b[36mCell\u001b[39m\u001b[36m \u001b[39m\u001b[32mIn[1]\u001b[39m\u001b[32m, line 7\u001b[39m, in \u001b[36mService.sum\u001b[39m\u001b[34m(self, a, b)\u001b[39m\n\u001b[32m      5\u001b[39m \u001b[38;5;28;01mdef\u001b[39;00m\u001b[38;5;250m \u001b[39m\u001b[34msum\u001b[39m(\u001b[38;5;28mself\u001b[39m, a, b):\n\u001b[32m      6\u001b[39m     result = a+b\n\u001b[32m----> \u001b[39m\u001b[32m7\u001b[39m     \u001b[38;5;28mprint\u001b[39m (\u001b[33m\"\u001b[39m\u001b[38;5;132;01m%s\u001b[39;00m\u001b[33m님, \u001b[39m\u001b[38;5;132;01m%s\u001b[39;00m\u001b[33m + \u001b[39m\u001b[38;5;132;01m%s\u001b[39;00m\u001b[33m = \u001b[39m\u001b[38;5;132;01m%s\u001b[39;00m\u001b[33m입니다.\u001b[39m\u001b[33m\"\u001b[39m % (\u001b[38;5;28;43mself\u001b[39;49m\u001b[43m.\u001b[49m\u001b[43mname\u001b[49m, a, b, result))\n",
      "\u001b[31mAttributeError\u001b[39m: 'Service' object has no attribute 'name'"
     ]
    }
   ],
   "source": [
    "lee.sum(1,1) #setname을 하지 않고 바로 덧셈 메서드를 실행하면 오류가 나게 되어있음"
   ]
  },
  {
   "cell_type": "code",
   "execution_count": null,
   "id": "6eb39b83-fe98-4bbe-9d71-8badf931857c",
   "metadata": {},
   "outputs": [],
   "source": []
  }
 ],
 "metadata": {
  "kernelspec": {
   "display_name": "Python 3 (ipykernel)",
   "language": "python",
   "name": "python3"
  },
  "language_info": {
   "codemirror_mode": {
    "name": "ipython",
    "version": 3
   },
   "file_extension": ".py",
   "mimetype": "text/x-python",
   "name": "python",
   "nbconvert_exporter": "python",
   "pygments_lexer": "ipython3",
   "version": "3.13.2"
  }
 },
 "nbformat": 4,
 "nbformat_minor": 5
}
