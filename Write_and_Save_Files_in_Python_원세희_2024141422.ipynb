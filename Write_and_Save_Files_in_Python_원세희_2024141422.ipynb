{
  "nbformat": 4,
  "nbformat_minor": 0,
  "metadata": {
    "colab": {
      "provenance": [],
      "authorship_tag": "ABX9TyMisllNVyTICvrSU2X6pHzg",
      "include_colab_link": true
    },
    "kernelspec": {
      "name": "python3",
      "display_name": "Python 3"
    },
    "language_info": {
      "name": "python"
    }
  },
  "cells": [
    {
      "cell_type": "markdown",
      "metadata": {
        "id": "view-in-github",
        "colab_type": "text"
      },
      "source": [
        "<a href=\"https://colab.research.google.com/github/Wonsehee/python_programming2025/blob/7%EC%A3%BC%EC%B0%A8/Write_and_Save_Files_in_Python_%EC%9B%90%EC%84%B8%ED%9D%AC_2024141422.ipynb\" target=\"_parent\"><img src=\"https://colab.research.google.com/assets/colab-badge.svg\" alt=\"Open In Colab\"/></a>"
      ]
    },
    {
      "cell_type": "code",
      "execution_count": null,
      "metadata": {
        "id": "gTiKp1tse3h1"
      },
      "outputs": [],
      "source": [
        "#7주차 원세희 2024141422"
      ]
    },
    {
      "cell_type": "code",
      "source": [
        "from google.colab import drive\n",
        "drive.mount('/content/gdrive')"
      ],
      "metadata": {
        "colab": {
          "base_uri": "https://localhost:8080/"
        },
        "id": "gCCM7T_Ae9FC",
        "outputId": "8e0ccefa-6bc9-48db-e7a1-4e22c8f5f10e"
      },
      "execution_count": 2,
      "outputs": [
        {
          "output_type": "stream",
          "name": "stdout",
          "text": [
            "Mounted at /content/gdrive\n"
          ]
        }
      ]
    },
    {
      "cell_type": "code",
      "source": [
        "# Write line to file\n",
        "\n",
        "with open('/content/gdrive/My Drive/Colab Notebooks/example2.txt', 'w') as writefile:\n",
        "    writefile.write(\"This is line A\")"
      ],
      "metadata": {
        "id": "KTIDKHGRfcEz"
      },
      "execution_count": 9,
      "outputs": []
    },
    {
      "cell_type": "code",
      "source": [
        "# Read file\n",
        "\n",
        "with open('/content/gdrive/My Drive/Colab Notebooks/example2.txt', 'r') as testwritefile:\n",
        "    print(testwritefile.read())"
      ],
      "metadata": {
        "colab": {
          "base_uri": "https://localhost:8080/"
        },
        "id": "Ibqvr5GSfiM5",
        "outputId": "077195b9-6c8f-499d-a6d5-2c2b8cb3a1c0"
      },
      "execution_count": 10,
      "outputs": [
        {
          "output_type": "stream",
          "name": "stdout",
          "text": [
            "This is line A\n"
          ]
        }
      ]
    },
    {
      "cell_type": "code",
      "source": [
        "# Write lines to file\n",
        "\n",
        "with open('/content/gdrive/My Drive/Colab Notebooks/example10.txt', 'w') as writefile:\n",
        "    writefile.write(\"This is line A\\n\")\n",
        "    writefile.write(\"This is line B\\n\")\n",
        "    writefile.write(\"This is line 10\\n\")"
      ],
      "metadata": {
        "id": "MY0HENFofl51"
      },
      "execution_count": 11,
      "outputs": []
    },
    {
      "cell_type": "code",
      "source": [
        "# Check whether write to file\n",
        "\n",
        "with open('/content/gdrive/My Drive/Colab Notebooks/example2.txt', 'r') as testwritefile:\n",
        "    print(testwritefile.read())"
      ],
      "metadata": {
        "colab": {
          "base_uri": "https://localhost:8080/"
        },
        "id": "i-EifIJofu_s",
        "outputId": "bd182566-7536-4e06-c1a0-08b0a499e4bb"
      },
      "execution_count": 12,
      "outputs": [
        {
          "output_type": "stream",
          "name": "stdout",
          "text": [
            "This is line A\n"
          ]
        }
      ]
    },
    {
      "cell_type": "code",
      "source": [
        "# Write a new line to text file\n",
        "\n",
        "with open('/content/gdrive/My Drive/Colab Notebooks/example2.txt', 'a') as testwritefile:\n",
        "    testwritefile.write(\"This is line C\\n\")"
      ],
      "metadata": {
        "id": "VRmqNe-Gfw9E"
      },
      "execution_count": 13,
      "outputs": []
    },
    {
      "cell_type": "code",
      "source": [
        "# Verify if the new line is in the text file\n",
        "\n",
        "with open('/content/gdrive/My Drive/Colab Notebooks/example2.txt', 'r') as testwritefile:\n",
        "    print(testwritefile.read())"
      ],
      "metadata": {
        "colab": {
          "base_uri": "https://localhost:8080/"
        },
        "id": "sw8XklbKfzP5",
        "outputId": "19aa8f04-30c0-44bb-c54a-116de66638e8"
      },
      "execution_count": 14,
      "outputs": [
        {
          "output_type": "stream",
          "name": "stdout",
          "text": [
            "This is line AThis is line C\n",
            "\n"
          ]
        }
      ]
    },
    {
      "cell_type": "code",
      "source": [
        "# Sample list of text\n",
        "\n",
        "Lines = [\"This is line A\\n\", \"This is line B\\n\", \"This is line C\\n\"]\n",
        "Lines"
      ],
      "metadata": {
        "colab": {
          "base_uri": "https://localhost:8080/"
        },
        "id": "nk7cvSWDf17x",
        "outputId": "14161094-4f9a-45a8-9b01-e825835e5472"
      },
      "execution_count": 15,
      "outputs": [
        {
          "output_type": "execute_result",
          "data": {
            "text/plain": [
              "['This is line A\\n', 'This is line B\\n', 'This is line C\\n']"
            ]
          },
          "metadata": {},
          "execution_count": 15
        }
      ]
    },
    {
      "cell_type": "code",
      "source": [
        "# Write the strings in the list to text file\n",
        "\n",
        "with open('/content/gdrive/My Drive/Colab Notebooks/example11.txt', 'w') as writefile:\n",
        "    for line in Lines:\n",
        "        print(line)\n",
        "        writefile.write(line)"
      ],
      "metadata": {
        "colab": {
          "base_uri": "https://localhost:8080/"
        },
        "id": "ISzw9Uuzf39x",
        "outputId": "f85c1e2d-59ee-44c0-e51b-b6c8302755a5"
      },
      "execution_count": 16,
      "outputs": [
        {
          "output_type": "stream",
          "name": "stdout",
          "text": [
            "This is line A\n",
            "\n",
            "This is line B\n",
            "\n",
            "This is line C\n",
            "\n"
          ]
        }
      ]
    },
    {
      "cell_type": "code",
      "source": [
        "# Verify if writing to file is successfully executed\n",
        "\n",
        "with open('/content/gdrive/My Drive/Colab Notebooks/example11.txt', 'r') as testwritefile:\n",
        "    print(testwritefile.read())"
      ],
      "metadata": {
        "colab": {
          "base_uri": "https://localhost:8080/"
        },
        "id": "QYbnnsPCf7sE",
        "outputId": "606225ee-358d-4ae8-eefc-b9c86bfaa319"
      },
      "execution_count": 17,
      "outputs": [
        {
          "output_type": "stream",
          "name": "stdout",
          "text": [
            "This is line A\n",
            "This is line B\n",
            "This is line C\n",
            "\n"
          ]
        }
      ]
    },
    {
      "cell_type": "code",
      "source": [
        "# Append the line to the file\n",
        "\n",
        "with open('/content/gdrive/My Drive/Colab Notebooks/example11.txt', 'a') as testwritefile:\n",
        "    testwritefile.write(\"This is line D\\n\")"
      ],
      "metadata": {
        "id": "2IldEv9Vf9Uq"
      },
      "execution_count": 18,
      "outputs": []
    },
    {
      "cell_type": "code",
      "source": [
        "# Verify if the appending is successfully executed\n",
        "\n",
        "with open('/content/gdrive/My Drive/Colab Notebooks/example11.txt', 'r') as testwritefile:\n",
        "    print(testwritefile.read())"
      ],
      "metadata": {
        "id": "RktPqzovf-9Q",
        "outputId": "23444be4-04b2-40bf-8839-188c23e8dc2b",
        "colab": {
          "base_uri": "https://localhost:8080/"
        }
      },
      "execution_count": 19,
      "outputs": [
        {
          "output_type": "stream",
          "name": "stdout",
          "text": [
            "This is line A\n",
            "This is line B\n",
            "This is line C\n",
            "This is line D\n",
            "\n"
          ]
        }
      ]
    },
    {
      "cell_type": "markdown",
      "source": [
        "Copy a File"
      ],
      "metadata": {
        "id": "FRZXBBBqNvcv"
      }
    },
    {
      "cell_type": "code",
      "source": [
        "# Copy file to another\n",
        "\n",
        "with open('/content/gdrive/My Drive/Colab Notebooks/example11.txt','r') as readfile:\n",
        "    with open('/content/gdrive/My Drive/Colab Notebooks/example12.txt','w') as writefile:\n",
        "          for line in readfile:\n",
        "                writefile.write(line)"
      ],
      "metadata": {
        "id": "g64OZbnNN0Um"
      },
      "execution_count": 20,
      "outputs": []
    },
    {
      "cell_type": "code",
      "source": [
        "# Verify if the copy is successfully executed\n",
        "\n",
        "with open('/content/gdrive/My Drive/Colab Notebooks/example12.txt','r') as testwritefile:\n",
        "    print(testwritefile.read())"
      ],
      "metadata": {
        "colab": {
          "base_uri": "https://localhost:8080/"
        },
        "id": "-yOIP40nN5Ez",
        "outputId": "3f6931c4-3822-4612-aad2-671e0fc1cd81"
      },
      "execution_count": 21,
      "outputs": [
        {
          "output_type": "stream",
          "name": "stdout",
          "text": [
            "This is line A\n",
            "This is line B\n",
            "This is line C\n",
            "This is line D\n",
            "\n"
          ]
        }
      ]
    },
    {
      "cell_type": "code",
      "source": [
        "\n",
        "with open('/content/gdrive/My Drive/Colab Notebooks/example12.txt','r') as testwritefile:\n",
        "    print(testwritefile.read())"
      ],
      "metadata": {
        "colab": {
          "base_uri": "https://localhost:8080/"
        },
        "id": "zBdSWfv5N7d8",
        "outputId": "52eec61c-679b-4fd4-9b64-1f7eaa9a224d"
      },
      "execution_count": 22,
      "outputs": [
        {
          "output_type": "stream",
          "name": "stdout",
          "text": [
            "This is line A\n",
            "This is line B\n",
            "This is line C\n",
            "This is line D\n",
            "\n"
          ]
        }
      ]
    }
  ]
}