{
 "cells": [
  {
   "cell_type": "code",
   "execution_count": null,
   "id": "8974c169-f9f2-4c9a-bde3-d3e4e7e76b7e",
   "metadata": {},
   "outputs": [],
   "source": [
    "#9주차 원세희 2024141422"
   ]
  },
  {
   "cell_type": "code",
   "execution_count": null,
   "id": "5b5f18d6-6aae-486d-8fb0-b2ac0c558d19",
   "metadata": {},
   "outputs": [],
   "source": []
  },
  {
   "cell_type": "code",
   "execution_count": null,
   "id": "e4838a51-d847-4e5c-9d3d-04056aecbffa",
   "metadata": {},
   "outputs": [],
   "source": [
    "#Comprehension"
   ]
  },
  {
   "cell_type": "code",
   "execution_count": 1,
   "id": "8a1d498a-7ed8-444a-ad2c-cd6d0b42f3c8",
   "metadata": {},
   "outputs": [],
   "source": [
    "a=[]\n",
    "for i in [1,2,3]:\n",
    "    a.append(i+1)"
   ]
  },
  {
   "cell_type": "code",
   "execution_count": 2,
   "id": "833c60ab-0e5c-4da5-8995-e59cec622215",
   "metadata": {},
   "outputs": [
    {
     "data": {
      "text/plain": [
       "[2, 3, 4]"
      ]
     },
     "execution_count": 2,
     "metadata": {},
     "output_type": "execute_result"
    }
   ],
   "source": [
    "a"
   ]
  },
  {
   "cell_type": "code",
   "execution_count": 4,
   "id": "6c869d7c-909b-42c8-82e2-0abcfde81148",
   "metadata": {},
   "outputs": [],
   "source": [
    "b=[i+1 for i in [1,2,3]]"
   ]
  },
  {
   "cell_type": "code",
   "execution_count": 5,
   "id": "892ad581-008f-403b-8127-be0bfaf40747",
   "metadata": {},
   "outputs": [
    {
     "data": {
      "text/plain": [
       "[2, 3, 4]"
      ]
     },
     "execution_count": 5,
     "metadata": {},
     "output_type": "execute_result"
    }
   ],
   "source": [
    "b"
   ]
  },
  {
   "cell_type": "code",
   "execution_count": 6,
   "id": "9e2c010b-7a5b-4488-8f58-204c0ac081fd",
   "metadata": {},
   "outputs": [
    {
     "data": {
      "text/plain": [
       "[3]"
      ]
     },
     "execution_count": 6,
     "metadata": {},
     "output_type": "execute_result"
    }
   ],
   "source": [
    "[i+1 for i in [1,2,3] if i%2==0]"
   ]
  },
  {
   "cell_type": "code",
   "execution_count": 8,
   "id": "c41346e9-b818-4489-a4a3-b493257e642e",
   "metadata": {},
   "outputs": [],
   "source": [
    "number_list = []\n",
    "number_list.append(1)\n",
    "number_list.append(2)\n",
    "number_list.append(3)\n",
    "number_list.append(4)\n",
    "number_list.append(5)"
   ]
  },
  {
   "cell_type": "code",
   "execution_count": 10,
   "id": "4bcf2e8e-0707-473c-bcb6-6fc1c10e008a",
   "metadata": {},
   "outputs": [],
   "source": [
    "number_list = []\n",
    "for number in range(1, 6):\n",
    "    number_list.append(number)"
   ]
  },
  {
   "cell_type": "code",
   "execution_count": 12,
   "id": "26b916ee-22f3-4db8-8f02-e617c21930e3",
   "metadata": {},
   "outputs": [],
   "source": [
    "number_list = list(range(1, 6))"
   ]
  },
  {
   "cell_type": "code",
   "execution_count": 13,
   "id": "074915dd-d622-41c6-8943-2ff7b2b5a1c1",
   "metadata": {},
   "outputs": [
    {
     "name": "stdout",
     "output_type": "stream",
     "text": [
      "[1, 2, 3, 4, 5]\n"
     ]
    }
   ],
   "source": [
    "print(number_list)"
   ]
  },
  {
   "cell_type": "code",
   "execution_count": 14,
   "id": "1abedb0a-a81e-4210-894a-855966d40006",
   "metadata": {},
   "outputs": [
    {
     "name": "stdout",
     "output_type": "stream",
     "text": [
      "[1, 2, 3, 4, 5]\n"
     ]
    }
   ],
   "source": [
    "number_list = [number for number in range(1,6)]\n",
    "print(number_list)"
   ]
  },
  {
   "cell_type": "code",
   "execution_count": 15,
   "id": "104027c4-2684-4182-afb9-1a89d92dab8d",
   "metadata": {},
   "outputs": [
    {
     "name": "stdout",
     "output_type": "stream",
     "text": [
      "[0, 1, 2, 3, 4]\n"
     ]
    }
   ],
   "source": [
    "number_list = [number-1 for number in range(1,6)]\n",
    "print(number_list)"
   ]
  },
  {
   "cell_type": "code",
   "execution_count": 16,
   "id": "1d2bfb6c-02c8-403f-b2e1-dbc86298c298",
   "metadata": {},
   "outputs": [
    {
     "name": "stdout",
     "output_type": "stream",
     "text": [
      "[1, 3, 5]\n"
     ]
    }
   ],
   "source": [
    "a_list = [number for number in range(1,6) if number % 2 == 1]\n",
    "print(a_list)"
   ]
  },
  {
   "cell_type": "code",
   "execution_count": 17,
   "id": "418ecdd9-a82a-4109-89dd-cd0b13830eac",
   "metadata": {},
   "outputs": [],
   "source": [
    "a_list = []\n",
    "for number in range(1,6):\n",
    "    if number%2 == 1:\n",
    "        a_list.append(number)"
   ]
  },
  {
   "cell_type": "code",
   "execution_count": 18,
   "id": "7f29a1a3-e6a5-4a50-b55a-181736bd06bf",
   "metadata": {},
   "outputs": [
    {
     "name": "stdout",
     "output_type": "stream",
     "text": [
      "[1, 3, 5]\n"
     ]
    }
   ],
   "source": [
    "print(a_list)"
   ]
  },
  {
   "cell_type": "code",
   "execution_count": 19,
   "id": "f2216c75-015b-4db7-8090-cf19f9e7be70",
   "metadata": {},
   "outputs": [],
   "source": [
    "sentence = ['I', 'Love', 'Python', 'Soooooo', 'MUCH!!!']"
   ]
  },
  {
   "cell_type": "code",
   "execution_count": 20,
   "id": "93847ca7-77bc-4aea-ac0a-962b5b9ceaeb",
   "metadata": {},
   "outputs": [
    {
     "data": {
      "text/plain": [
       "['I', 'Love', 'Python', 'Soooooo', 'MUCH!!!']"
      ]
     },
     "execution_count": 20,
     "metadata": {},
     "output_type": "execute_result"
    }
   ],
   "source": [
    "sentence"
   ]
  },
  {
   "cell_type": "code",
   "execution_count": 21,
   "id": "898fb5f2-1504-4826-a706-2e57730f85d0",
   "metadata": {},
   "outputs": [
    {
     "data": {
      "text/plain": [
       "['i', 'love', 'python', 'soooooo', 'much!!!']"
      ]
     },
     "execution_count": 21,
     "metadata": {},
     "output_type": "execute_result"
    }
   ],
   "source": [
    "[word.lower() for word in sentence]"
   ]
  },
  {
   "cell_type": "code",
   "execution_count": 22,
   "id": "71e31b49-72cf-4617-8302-73bbeaea3312",
   "metadata": {},
   "outputs": [
    {
     "data": {
      "text/plain": [
       "['Soooooo', 'MUCH!!!']"
      ]
     },
     "execution_count": 22,
     "metadata": {},
     "output_type": "execute_result"
    }
   ],
   "source": [
    "[word for word in sentence if len(word) > 6]"
   ]
  },
  {
   "cell_type": "code",
   "execution_count": 23,
   "id": "4aa41595-d021-4059-a810-4f50fcaa0bd8",
   "metadata": {},
   "outputs": [
    {
     "data": {
      "text/plain": [
       "[0, 1, 2, 3, 4, 5, 6, 7, 8, 9]"
      ]
     },
     "execution_count": 23,
     "metadata": {},
     "output_type": "execute_result"
    }
   ],
   "source": [
    "list(range(10))"
   ]
  },
  {
   "cell_type": "code",
   "execution_count": 24,
   "id": "0b2077ad-1da0-4c89-a021-d9f944505916",
   "metadata": {},
   "outputs": [
    {
     "data": {
      "text/plain": [
       "[(0, 0, 0),\n",
       " (1, 1, 1),\n",
       " (2, 4, 8),\n",
       " (3, 9, 27),\n",
       " (4, 16, 64),\n",
       " (5, 25, 125),\n",
       " (6, 36, 216),\n",
       " (7, 49, 343),\n",
       " (8, 64, 512),\n",
       " (9, 81, 729)]"
      ]
     },
     "execution_count": 24,
     "metadata": {},
     "output_type": "execute_result"
    }
   ],
   "source": [
    "[(x, x ** 2, x ** 3) for x in range(10)]"
   ]
  },
  {
   "cell_type": "code",
   "execution_count": null,
   "id": "498d264b-ed19-4991-a4a8-4766ea9a7f6e",
   "metadata": {},
   "outputs": [],
   "source": []
  },
  {
   "cell_type": "code",
   "execution_count": 3,
   "id": "ee6114a9-64dd-4dc1-8d55-bcf136ca6cf4",
   "metadata": {
    "scrolled": true
   },
   "outputs": [
    {
     "name": "stdout",
     "output_type": "stream",
     "text": [
      "1 1\n",
      "1 2\n",
      "2 1\n",
      "2 2\n",
      "3 1\n",
      "3 2\n"
     ]
    }
   ],
   "source": [
    "rows = range(1,4)\n",
    "cols = range(1,3)\n",
    "for row in rows:\n",
    "    for col in cols:\n",
    "        print(row, col)"
   ]
  },
  {
   "cell_type": "code",
   "execution_count": 4,
   "id": "87a305b5-1423-4672-b8cd-9d33199295e2",
   "metadata": {},
   "outputs": [
    {
     "name": "stdout",
     "output_type": "stream",
     "text": [
      "(1, 1)\n",
      "(1, 2)\n",
      "(2, 1)\n",
      "(2, 2)\n",
      "(3, 1)\n",
      "(3, 2)\n"
     ]
    }
   ],
   "source": [
    "rows = range(1,4)\n",
    "cols = range(1,3)\n",
    "cells = [(row, col) for row in rows for col in cols]\n",
    "for cell in cells:\n",
    "    print(cell)"
   ]
  },
  {
   "cell_type": "code",
   "execution_count": 5,
   "id": "dae3bb49-654e-4799-80d0-1a66d9b273d2",
   "metadata": {},
   "outputs": [
    {
     "data": {
      "text/plain": [
       "[(1, 0),\n",
       " (2, 0),\n",
       " (2, 1),\n",
       " (3, 0),\n",
       " (3, 1),\n",
       " (3, 2),\n",
       " (4, 0),\n",
       " (4, 1),\n",
       " (4, 2),\n",
       " (4, 3)]"
      ]
     },
     "execution_count": 5,
     "metadata": {},
     "output_type": "execute_result"
    }
   ],
   "source": [
    "[(i,j) for i in range(5) for j in range(i)]"
   ]
  },
  {
   "cell_type": "code",
   "execution_count": 7,
   "id": "599067f7-ed04-4e70-8e04-5fc81e4f7896",
   "metadata": {},
   "outputs": [
    {
     "data": {
      "text/plain": [
       "{'l': 1, 'e': 2, 't': 2, 'r': 1, 's': 1}"
      ]
     },
     "execution_count": 7,
     "metadata": {},
     "output_type": "execute_result"
    }
   ],
   "source": [
    "word = 'letters'\n",
    "letter_counts = {letter: word.count(letter) for letter in word}\n",
    "letter_counts"
   ]
  },
  {
   "cell_type": "code",
   "execution_count": 8,
   "id": "1f8a66fd-23e6-4f16-b947-7987de8dc9f7",
   "metadata": {},
   "outputs": [
    {
     "data": {
      "text/plain": [
       "{'t': 2, 'r': 1, 'e': 2, 'l': 1, 's': 1}"
      ]
     },
     "execution_count": 8,
     "metadata": {},
     "output_type": "execute_result"
    }
   ],
   "source": [
    "word = 'letters'\n",
    "letter_counts = {letter: word.count(letter) for letter in set(word)}\n",
    "letter_counts"
   ]
  },
  {
   "cell_type": "code",
   "execution_count": 10,
   "id": "2869bc40-9f15-429d-91cc-68616b2c6c11",
   "metadata": {},
   "outputs": [
    {
     "data": {
      "text/plain": [
       "{1, 4}"
      ]
     },
     "execution_count": 10,
     "metadata": {},
     "output_type": "execute_result"
    }
   ],
   "source": [
    "a_set = {number for number in range(1,6) if number % 3 == 1}\n",
    "a_set"
   ]
  },
  {
   "cell_type": "code",
   "execution_count": null,
   "id": "cd72271c-e39e-4786-932e-60aa58d0d840",
   "metadata": {},
   "outputs": [],
   "source": []
  },
  {
   "cell_type": "code",
   "execution_count": null,
   "id": "b7a31b29-91dc-40bf-b8d2-3ad8626d1173",
   "metadata": {},
   "outputs": [],
   "source": [
    "#Functions"
   ]
  },
  {
   "cell_type": "code",
   "execution_count": 11,
   "id": "14fc11f6-ab69-4eb2-8f54-d97b98ff8013",
   "metadata": {},
   "outputs": [],
   "source": [
    "def sum(a,b):\n",
    "    return a+b"
   ]
  },
  {
   "cell_type": "code",
   "execution_count": 12,
   "id": "69d81671-6014-4dc0-9a35-43d075e9a326",
   "metadata": {},
   "outputs": [
    {
     "data": {
      "text/plain": [
       "3"
      ]
     },
     "execution_count": 12,
     "metadata": {},
     "output_type": "execute_result"
    }
   ],
   "source": [
    "sum(1,2)"
   ]
  },
  {
   "cell_type": "code",
   "execution_count": 13,
   "id": "f2f2d133-efc2-46a9-8915-dd2c937b7f53",
   "metadata": {},
   "outputs": [
    {
     "data": {
      "text/plain": [
       "4.4"
      ]
     },
     "execution_count": 13,
     "metadata": {},
     "output_type": "execute_result"
    }
   ],
   "source": [
    "sum(1.3,3.1)"
   ]
  },
  {
   "cell_type": "code",
   "execution_count": 15,
   "id": "bc23b874-83ae-49e7-a9a3-2e2df582cdc8",
   "metadata": {},
   "outputs": [
    {
     "data": {
      "text/plain": [
       "'love python'"
      ]
     },
     "execution_count": 15,
     "metadata": {},
     "output_type": "execute_result"
    }
   ],
   "source": [
    "sum('love ', 'python')"
   ]
  },
  {
   "cell_type": "code",
   "execution_count": null,
   "id": "b285b756-5e04-4773-b6a6-a74502cb32f3",
   "metadata": {},
   "outputs": [],
   "source": []
  },
  {
   "cell_type": "code",
   "execution_count": 17,
   "id": "b7e77fee-b74d-4e3f-a086-0e3104c52fd2",
   "metadata": {},
   "outputs": [
    {
     "name": "stdout",
     "output_type": "stream",
     "text": [
      "Monday : drink coffee - eat banana - enjoy tiramisu\n",
      "Tuesday : drink tea - eat orange - enjoy ice cream\n",
      "Wednesday : drink beer - eat peach - enjoy pie\n"
     ]
    }
   ],
   "source": [
    "days = ['Monday', 'Tuesday', 'Wednesday']\n",
    "fruits = ['banana', 'orange', 'peach']\n",
    "drinks = ['coffee', 'tea', 'beer']\n",
    "desserts = ['tiramisu', 'ice cream', 'pie', 'pudding']\n",
    "for day, fruit, drink, dessert in zip(days, fruits, drinks, desserts):\n",
    "    print(day, \": drink\", drink, \"- eat\", fruit, \"- enjoy\", dessert)"
   ]
  },
  {
   "cell_type": "code",
   "execution_count": 19,
   "id": "cadea02f-5a97-40b5-8153-2573932e7215",
   "metadata": {},
   "outputs": [
    {
     "data": {
      "text/plain": [
       "[('Monday', 'Lundi'), ('Tuesday', 'Mardi'), ('Wednesday', 'Mercredi')]"
      ]
     },
     "execution_count": 19,
     "metadata": {},
     "output_type": "execute_result"
    }
   ],
   "source": [
    "english = 'Monday', 'Tuesday', 'Wednesday'\n",
    "french = 'Lundi', 'Mardi', 'Mercredi'\n",
    "list( zip(english, french) )\n",
    "# [('Monday', 'Lundi'), ('Tuesday', 'Mardi'), ('Wednesday', 'Mercredi')]"
   ]
  },
  {
   "cell_type": "code",
   "execution_count": 20,
   "id": "620868af-320b-46c5-93a9-1062c05af7fe",
   "metadata": {},
   "outputs": [
    {
     "data": {
      "text/plain": [
       "{'Monday': 'Lundi', 'Tuesday': 'Mardi', 'Wednesday': 'Mercredi'}"
      ]
     },
     "execution_count": 20,
     "metadata": {},
     "output_type": "execute_result"
    }
   ],
   "source": [
    "dict( zip(english, french) )\n",
    "# {'Monday': 'Lundi', 'Tuesday': 'Mardi', 'Wednesday': 'Mercredi'}"
   ]
  },
  {
   "cell_type": "code",
   "execution_count": 22,
   "id": "1f4b13a1-dfee-47fa-9696-2890e8b4b272",
   "metadata": {},
   "outputs": [],
   "source": [
    "# wine, entree, dessert를 받아서 딕셔너리로 만들어 반환하는 함수\n",
    "def menu(wine, entree, dessert):\n",
    "    return {'wine': wine, 'entree': entree, 'dessert': dessert}"
   ]
  },
  {
   "cell_type": "code",
   "execution_count": 23,
   "id": "b9f54fe0-7a1f-432c-8c2e-a7b588c3a9a5",
   "metadata": {},
   "outputs": [
    {
     "data": {
      "text/plain": [
       "{'wine': 'chardonnay', 'entree': 'chicken', 'dessert': 'cake'}"
      ]
     },
     "execution_count": 23,
     "metadata": {},
     "output_type": "execute_result"
    }
   ],
   "source": [
    "menu('chardonnay', 'chicken', 'cake')"
   ]
  },
  {
   "cell_type": "code",
   "execution_count": 28,
   "id": "1a72a4ba-ee29-4c45-ab4c-e29344278efc",
   "metadata": {},
   "outputs": [
    {
     "data": {
      "text/plain": [
       "{'wine': 'bordeaux', 'entree': 'beef', 'dessert': 'bagel'}"
      ]
     },
     "execution_count": 28,
     "metadata": {},
     "output_type": "execute_result"
    }
   ],
   "source": [
    "menu(entree='beef', dessert='bagel', wine='bordeaux')"
   ]
  },
  {
   "cell_type": "code",
   "execution_count": 29,
   "id": "dcbe0c51-3839-4d16-b6cb-9261eb6cfe54",
   "metadata": {},
   "outputs": [
    {
     "data": {
      "text/plain": [
       "{'wine': 'frontenac', 'entree': 'fish', 'dessert': 'flan'}"
      ]
     },
     "execution_count": 29,
     "metadata": {},
     "output_type": "execute_result"
    }
   ],
   "source": [
    "menu('frontenac', dessert='flan', entree='fish')"
   ]
  },
  {
   "cell_type": "code",
   "execution_count": 3,
   "id": "43a8390f-8efc-49e6-aafd-07df2f837781",
   "metadata": {},
   "outputs": [],
   "source": [
    "def menu(wine, entree, dessert='pudding'):\n",
    "    return {'wine': wine, 'entree': entree, 'dessert': dessert}"
   ]
  },
  {
   "cell_type": "code",
   "execution_count": 4,
   "id": "5e309f5e-1777-4150-935f-cb6b5aa02c8b",
   "metadata": {},
   "outputs": [
    {
     "data": {
      "text/plain": [
       "{'wine': 'chardonnay', 'entree': 'chicken', 'dessert': 'pudding'}"
      ]
     },
     "execution_count": 4,
     "metadata": {},
     "output_type": "execute_result"
    }
   ],
   "source": [
    "menu('chardonnay', 'chicken')"
   ]
  },
  {
   "cell_type": "code",
   "execution_count": 5,
   "id": "dbf672ba-2dee-448d-8a2c-b486f4914878",
   "metadata": {},
   "outputs": [
    {
     "data": {
      "text/plain": [
       "{'wine': 'dunkelfelder', 'entree': 'duck', 'dessert': 'doughnut'}"
      ]
     },
     "execution_count": 5,
     "metadata": {},
     "output_type": "execute_result"
    }
   ],
   "source": [
    "menu('dunkelfelder', 'duck', 'doughnut')"
   ]
  },
  {
   "cell_type": "code",
   "execution_count": 7,
   "id": "07bfcc85-962d-4319-8d70-8fea39c04504",
   "metadata": {},
   "outputs": [],
   "source": [
    "def menu(price, wine='chardonnay', entree='chicken', dessert='pudding'):\n",
    "    return {'price': price, 'wine': wine, 'entree': entree, 'dessert': dessert}"
   ]
  },
  {
   "cell_type": "code",
   "execution_count": 8,
   "id": "ed98f0a6-d079-49e6-a2b4-eaaf65066c45",
   "metadata": {},
   "outputs": [
    {
     "data": {
      "text/plain": [
       "{'price': 100, 'wine': 'chardonnay', 'entree': 'chicken', 'dessert': 'pudding'}"
      ]
     },
     "execution_count": 8,
     "metadata": {},
     "output_type": "execute_result"
    }
   ],
   "source": [
    "menu(100)"
   ]
  },
  {
   "cell_type": "code",
   "execution_count": 9,
   "id": "3a4b7faf-f9c0-4ba8-a927-91ac0d9406aa",
   "metadata": {},
   "outputs": [
    {
     "data": {
      "text/plain": [
       "{'price': 100, 'wine': 'chardonnay', 'entree': 'chicken', 'dessert': 'pudding'}"
      ]
     },
     "execution_count": 9,
     "metadata": {},
     "output_type": "execute_result"
    }
   ],
   "source": [
    "menu(price=100)"
   ]
  },
  {
   "cell_type": "code",
   "execution_count": 11,
   "id": "fa435811-ba8e-4971-8e18-3cc0736a9680",
   "metadata": {},
   "outputs": [
    {
     "data": {
      "text/plain": [
       "{'price': 120, 'wine': 'chardonnay', 'entree': 'beef', 'dessert': 'pudding'}"
      ]
     },
     "execution_count": 11,
     "metadata": {},
     "output_type": "execute_result"
    }
   ],
   "source": [
    "menu(price=120, entree='beef')"
   ]
  },
  {
   "cell_type": "code",
   "execution_count": 12,
   "id": "b9658db7-b558-42a6-8749-069ef963df59",
   "metadata": {},
   "outputs": [
    {
     "data": {
      "text/plain": [
       "{'price': 110, 'wine': 'chardonnay', 'entree': 'chicken', 'dessert': 'bagel'}"
      ]
     },
     "execution_count": 12,
     "metadata": {},
     "output_type": "execute_result"
    }
   ],
   "source": [
    "menu(dessert='bagel', price=110)"
   ]
  },
  {
   "cell_type": "code",
   "execution_count": 14,
   "id": "2feb0628-cb5d-436e-a900-ae00f60de829",
   "metadata": {},
   "outputs": [
    {
     "data": {
      "text/plain": [
       "{'price': 'eighty',\n",
       " 'wine': 'saint-pierre',\n",
       " 'entree': 'fish',\n",
       " 'dessert': 'pudding'}"
      ]
     },
     "execution_count": 14,
     "metadata": {},
     "output_type": "execute_result"
    }
   ],
   "source": [
    "menu('eighty', 'saint-pierre', 'fish')"
   ]
  },
  {
   "cell_type": "code",
   "execution_count": 17,
   "id": "c1190b14-e76c-420b-81a5-b3584ae29463",
   "metadata": {},
   "outputs": [
    {
     "data": {
      "text/plain": [
       "{'price': 'hundred',\n",
       " 'wine': 'saint-pierre',\n",
       " 'entree': 'chicken',\n",
       " 'dessert': 'pudding'}"
      ]
     },
     "execution_count": 17,
     "metadata": {},
     "output_type": "execute_result"
    }
   ],
   "source": [
    "menu('hundred', wine='saint-pierre')"
   ]
  },
  {
   "cell_type": "code",
   "execution_count": null,
   "id": "1c39d466-a2d7-436c-ae21-1f67ce177823",
   "metadata": {},
   "outputs": [],
   "source": [
    "#불가능한 경우"
   ]
  },
  {
   "cell_type": "code",
   "execution_count": 18,
   "id": "2f501c02-bdba-4528-a07d-9e3b78607a2f",
   "metadata": {},
   "outputs": [
    {
     "ename": "TypeError",
     "evalue": "menu() missing 1 required positional argument: 'price'",
     "output_type": "error",
     "traceback": [
      "\u001b[31m---------------------------------------------------------------------------\u001b[39m",
      "\u001b[31mTypeError\u001b[39m                                 Traceback (most recent call last)",
      "\u001b[36mCell\u001b[39m\u001b[36m \u001b[39m\u001b[32mIn[18]\u001b[39m\u001b[32m, line 1\u001b[39m\n\u001b[32m----> \u001b[39m\u001b[32m1\u001b[39m \u001b[43mmenu\u001b[49m\u001b[43m(\u001b[49m\u001b[43m)\u001b[49m\n",
      "\u001b[31mTypeError\u001b[39m: menu() missing 1 required positional argument: 'price'"
     ]
    }
   ],
   "source": [
    "menu() # price에 인자가 할당이 안됨"
   ]
  },
  {
   "cell_type": "code",
   "execution_count": 20,
   "id": "5bab5256-ade6-4e48-bb65-9daab716c4b6",
   "metadata": {},
   "outputs": [
    {
     "ename": "SyntaxError",
     "evalue": "positional argument follows keyword argument (87699198.py, line 1)",
     "output_type": "error",
     "traceback": [
      "  \u001b[36mCell\u001b[39m\u001b[36m \u001b[39m\u001b[32mIn[20]\u001b[39m\u001b[32m, line 1\u001b[39m\n\u001b[31m    \u001b[39m\u001b[31mmenu(price=100, 'saint-pierre') # 키워드 인자 할당 후, 위치 인자\u001b[39m\n                                  ^\n\u001b[31mSyntaxError\u001b[39m\u001b[31m:\u001b[39m positional argument follows keyword argument\n"
     ]
    }
   ],
   "source": [
    "menu(price=100, 'saint-pierre') # 키워드 인자 할당 후, 위치 인자"
   ]
  },
  {
   "cell_type": "code",
   "execution_count": 21,
   "id": "5aab53ad-f140-4caf-abc9-e0dd12336535",
   "metadata": {},
   "outputs": [
    {
     "ename": "TypeError",
     "evalue": "menu() got multiple values for argument 'price'",
     "output_type": "error",
     "traceback": [
      "\u001b[31m---------------------------------------------------------------------------\u001b[39m",
      "\u001b[31mTypeError\u001b[39m                                 Traceback (most recent call last)",
      "\u001b[36mCell\u001b[39m\u001b[36m \u001b[39m\u001b[32mIn[21]\u001b[39m\u001b[32m, line 1\u001b[39m\n\u001b[32m----> \u001b[39m\u001b[32m1\u001b[39m \u001b[43mmenu\u001b[49m\u001b[43m(\u001b[49m\u001b[32;43m100\u001b[39;49m\u001b[43m,\u001b[49m\u001b[43m \u001b[49m\u001b[43mprice\u001b[49m\u001b[43m=\u001b[49m\u001b[32;43m120\u001b[39;49m\u001b[43m)\u001b[49m \u001b[38;5;66;03m# 같은 변수에 두 번 할당\u001b[39;00m\n",
      "\u001b[31mTypeError\u001b[39m: menu() got multiple values for argument 'price'"
     ]
    }
   ],
   "source": [
    "menu(100, price=120) # 같은 변수에 두 번 할당"
   ]
  },
  {
   "cell_type": "code",
   "execution_count": 22,
   "id": "1587943e-a4e1-4196-a322-aa943c93ecdd",
   "metadata": {},
   "outputs": [
    {
     "ename": "SyntaxError",
     "evalue": "invalid character '‘' (U+2018) (780433982.py, line 1)",
     "output_type": "error",
     "traceback": [
      "  \u001b[36mCell\u001b[39m\u001b[36m \u001b[39m\u001b[32mIn[22]\u001b[39m\u001b[32m, line 1\u001b[39m\n\u001b[31m    \u001b[39m\u001b[31mmenu(main=‘cream pasta’) # 정의되지 않은 매개변수\u001b[39m\n              ^\n\u001b[31mSyntaxError\u001b[39m\u001b[31m:\u001b[39m invalid character '‘' (U+2018)\n"
     ]
    }
   ],
   "source": [
    "menu(main=‘cream pasta’) # 정의되지 않은 매개변수"
   ]
  },
  {
   "cell_type": "code",
   "execution_count": null,
   "id": "189c6a9e-1412-4d34-af5a-257a41630d85",
   "metadata": {},
   "outputs": [],
   "source": []
  },
  {
   "cell_type": "code",
   "execution_count": 25,
   "id": "abe9e7c3-6566-46a9-923a-db89f9d3c61b",
   "metadata": {},
   "outputs": [],
   "source": [
    "def echo(anything):\n",
    "    'echo returns its input argument'\n",
    "    return anything"
   ]
  },
  {
   "cell_type": "code",
   "execution_count": 26,
   "id": "9b11e6a6-79aa-40db-b6c2-1108dad992a5",
   "metadata": {},
   "outputs": [
    {
     "data": {
      "text/plain": [
       "1"
      ]
     },
     "execution_count": 26,
     "metadata": {},
     "output_type": "execute_result"
    }
   ],
   "source": [
    "echo(1)"
   ]
  },
  {
   "cell_type": "code",
   "execution_count": 32,
   "id": "e4079c6e-c360-4dea-b878-13176d311e03",
   "metadata": {},
   "outputs": [
    {
     "name": "stdout",
     "output_type": "stream",
     "text": [
      "Help on function echo in module __main__:\n",
      "\n",
      "echo(anything)\n",
      "    echo returns its input argument\n",
      "\n"
     ]
    }
   ],
   "source": [
    "help(echo)"
   ]
  },
  {
   "cell_type": "code",
   "execution_count": 33,
   "id": "b44cd905-cf4a-48ad-b86a-66b12c7be5c2",
   "metadata": {},
   "outputs": [
    {
     "name": "stdout",
     "output_type": "stream",
     "text": [
      "echo returns its input argument\n"
     ]
    }
   ],
   "source": [
    "print(echo.__doc__)"
   ]
  },
  {
   "cell_type": "code",
   "execution_count": 27,
   "id": "6c3a8d06-ca8a-42af-b5b4-7d6682c42f54",
   "metadata": {},
   "outputs": [],
   "source": [
    "def print_if_true(thing, check):\n",
    "    \"\"\"\n",
    "    Prints the first argument if a second argument is true.\n",
    "    The operation is:\n",
    "    1. Check whether the *second* argument is true.\n",
    "    2. If it is, print the *first* argument.\n",
    "    \"\"\"\n",
    "    if check:\n",
    "        print(thing)"
   ]
  },
  {
   "cell_type": "code",
   "execution_count": 29,
   "id": "4fdbabd8-8f7b-4b02-ab87-8cea98a54651",
   "metadata": {},
   "outputs": [
    {
     "name": "stdout",
     "output_type": "stream",
     "text": [
      "hahaha\n"
     ]
    }
   ],
   "source": [
    "print_if_true('hahaha', True)"
   ]
  },
  {
   "cell_type": "code",
   "execution_count": 30,
   "id": "53bd9113-4a11-416c-9796-48c8079ea3b7",
   "metadata": {},
   "outputs": [
    {
     "name": "stdout",
     "output_type": "stream",
     "text": [
      "hahaha\n"
     ]
    }
   ],
   "source": [
    "print_if_true('hahaha', 1!=3)"
   ]
  },
  {
   "cell_type": "code",
   "execution_count": 31,
   "id": "3b350b93-3981-404a-b6b6-2f51bb758ad2",
   "metadata": {},
   "outputs": [
    {
     "name": "stdout",
     "output_type": "stream",
     "text": [
      "Help on function print_if_true in module __main__:\n",
      "\n",
      "print_if_true(thing, check)\n",
      "    Prints the first argument if a second argument is true.\n",
      "    The operation is:\n",
      "    1. Check whether the *second* argument is true.\n",
      "    2. If it is, print the *first* argument.\n",
      "\n"
     ]
    }
   ],
   "source": [
    "help(print_if_true)"
   ]
  },
  {
   "cell_type": "code",
   "execution_count": null,
   "id": "ef7103a3-1b63-4099-a2a7-a28c306b7a4b",
   "metadata": {},
   "outputs": [],
   "source": []
  },
  {
   "cell_type": "code",
   "execution_count": null,
   "id": "a70a8616-29bf-429b-be30-61e92f631fbc",
   "metadata": {},
   "outputs": [],
   "source": [
    "#Packages, Module, main"
   ]
  },
  {
   "cell_type": "code",
   "execution_count": 35,
   "id": "55cb84ac-026e-41ee-8d46-124e433262c7",
   "metadata": {
    "scrolled": true
   },
   "outputs": [
    {
     "name": "stdout",
     "output_type": "stream",
     "text": [
      "Requirement already satisfied: scikit-learn in c:\\users\\w\\appdata\\local\\programs\\python\\python313\\lib\\site-packages (1.6.1)\n",
      "Requirement already satisfied: numpy>=1.19.5 in c:\\users\\w\\appdata\\local\\programs\\python\\python313\\lib\\site-packages (from scikit-learn) (2.2.4)\n",
      "Requirement already satisfied: scipy>=1.6.0 in c:\\users\\w\\appdata\\local\\programs\\python\\python313\\lib\\site-packages (from scikit-learn) (1.15.2)\n",
      "Requirement already satisfied: joblib>=1.2.0 in c:\\users\\w\\appdata\\local\\programs\\python\\python313\\lib\\site-packages (from scikit-learn) (1.4.2)\n",
      "Requirement already satisfied: threadpoolctl>=3.1.0 in c:\\users\\w\\appdata\\local\\programs\\python\\python313\\lib\\site-packages (from scikit-learn) (3.6.0)\n"
     ]
    },
    {
     "name": "stderr",
     "output_type": "stream",
     "text": [
      "\n",
      "[notice] A new release of pip is available: 24.3.1 -> 25.0.1\n",
      "[notice] To update, run: python.exe -m pip install --upgrade pip\n"
     ]
    }
   ],
   "source": [
    "#!pip install scikit-learn, numpy, pandas, seaborn, matplotlib, scipy"
   ]
  },
  {
   "cell_type": "code",
   "execution_count": null,
   "id": "32fdc63f-fc0b-4e4d-a3a7-df7cd6bc6d57",
   "metadata": {},
   "outputs": [],
   "source": []
  },
  {
   "cell_type": "code",
   "execution_count": null,
   "id": "5bfc286f-47bd-49a6-96f7-623e90080bac",
   "metadata": {},
   "outputs": [],
   "source": []
  },
  {
   "cell_type": "code",
   "execution_count": null,
   "id": "e9470d4b-64e8-4c3a-9dd1-f6da0efa144d",
   "metadata": {},
   "outputs": [],
   "source": []
  },
  {
   "cell_type": "code",
   "execution_count": null,
   "id": "30ff1f1a-6aa2-4373-9329-f195afed890d",
   "metadata": {},
   "outputs": [],
   "source": []
  },
  {
   "cell_type": "code",
   "execution_count": null,
   "id": "479dbea7-2c90-4884-b7db-b0b8d6135dc8",
   "metadata": {},
   "outputs": [],
   "source": []
  },
  {
   "cell_type": "code",
   "execution_count": null,
   "id": "5227e14c-abeb-48a8-9ced-8902f332a8da",
   "metadata": {},
   "outputs": [],
   "source": []
  },
  {
   "cell_type": "code",
   "execution_count": null,
   "id": "4267340e-f49c-4dde-afe3-d62b2d263fe8",
   "metadata": {},
   "outputs": [],
   "source": []
  },
  {
   "cell_type": "code",
   "execution_count": null,
   "id": "e0153ba8-74b1-4864-b915-d08f89e02f2c",
   "metadata": {},
   "outputs": [],
   "source": []
  },
  {
   "cell_type": "code",
   "execution_count": null,
   "id": "b0a5e4f8-6cd7-4f88-b7ba-a22d2dedc309",
   "metadata": {},
   "outputs": [],
   "source": []
  },
  {
   "cell_type": "code",
   "execution_count": null,
   "id": "df3fe424-aa7f-42d0-ae21-b3b0d875013e",
   "metadata": {},
   "outputs": [],
   "source": []
  },
  {
   "cell_type": "code",
   "execution_count": null,
   "id": "2941ac12-8262-4693-96ee-2cb695d7de31",
   "metadata": {},
   "outputs": [],
   "source": []
  }
 ],
 "metadata": {
  "kernelspec": {
   "display_name": "Python 3 (ipykernel)",
   "language": "python",
   "name": "python3"
  },
  "language_info": {
   "codemirror_mode": {
    "name": "ipython",
    "version": 3
   },
   "file_extension": ".py",
   "mimetype": "text/x-python",
   "name": "python",
   "nbconvert_exporter": "python",
   "pygments_lexer": "ipython3",
   "version": "3.13.2"
  }
 },
 "nbformat": 4,
 "nbformat_minor": 5
}
