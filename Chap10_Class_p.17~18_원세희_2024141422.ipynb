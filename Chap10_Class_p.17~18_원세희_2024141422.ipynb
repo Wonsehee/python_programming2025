{
 "cells": [
  {
   "cell_type": "code",
   "execution_count": 1,
   "id": "3fa37ad8-fd98-48d9-ba91-72bff849bbf8",
   "metadata": {},
   "outputs": [],
   "source": [
    "class Service:\n",
    "    secret = \"지구는 4006년에 멸망한다.\"\n",
    "    def sum(self, a, b):\n",
    "        result = a+b\n",
    "        print (\"%s + %s = %s이다.\" % (a,b,result))"
   ]
  },
  {
   "cell_type": "code",
   "execution_count": 2,
   "id": "e7c17dd1-eefd-4fff-aa3f-ebf9689d861d",
   "metadata": {},
   "outputs": [],
   "source": [
    "an = Service()"
   ]
  },
  {
   "cell_type": "code",
   "execution_count": 3,
   "id": "8dd80e71-3228-47e0-9cc6-d158279d9a10",
   "metadata": {},
   "outputs": [
    {
     "name": "stdout",
     "output_type": "stream",
     "text": [
      "1 + 1 = 2이다.\n"
     ]
    }
   ],
   "source": [
    "an.sum(1,1)"
   ]
  },
  {
   "cell_type": "code",
   "execution_count": null,
   "id": "bbd56ece-38a9-4fce-90f2-2f00ea240dfa",
   "metadata": {},
   "outputs": [],
   "source": []
  }
 ],
 "metadata": {
  "kernelspec": {
   "display_name": "Python 3 (ipykernel)",
   "language": "python",
   "name": "python3"
  },
  "language_info": {
   "codemirror_mode": {
    "name": "ipython",
    "version": 3
   },
   "file_extension": ".py",
   "mimetype": "text/x-python",
   "name": "python",
   "nbconvert_exporter": "python",
   "pygments_lexer": "ipython3",
   "version": "3.13.2"
  }
 },
 "nbformat": 4,
 "nbformat_minor": 5
}
