{
 "cells": [
  {
   "cell_type": "code",
   "execution_count": null,
   "id": "a4a68b52-a089-4ff0-a94e-612fcb679fa9",
   "metadata": {},
   "outputs": [],
   "source": [
    "#10주차 원세희 2024141422"
   ]
  },
  {
   "cell_type": "code",
   "execution_count": null,
   "id": "544d15d3-6eb0-4b6f-924f-8f00110e7c81",
   "metadata": {},
   "outputs": [],
   "source": []
  },
  {
   "cell_type": "code",
   "execution_count": 1,
   "id": "0803dbca-48ec-4061-a2a7-b2f062d18b24",
   "metadata": {},
   "outputs": [],
   "source": [
    "result = 0"
   ]
  },
  {
   "cell_type": "code",
   "execution_count": 2,
   "id": "52747b10-fb8d-40b8-bace-c53d8de5cd39",
   "metadata": {},
   "outputs": [],
   "source": [
    "def adder(num):\n",
    "    global result \n",
    "    result += num #result = result + num\n",
    "    return result"
   ]
  },
  {
   "cell_type": "code",
   "execution_count": 3,
   "id": "3103a85f-a7b5-4fb3-a3c6-cd1d1813e1ad",
   "metadata": {},
   "outputs": [
    {
     "data": {
      "text/plain": [
       "3"
      ]
     },
     "execution_count": 3,
     "metadata": {},
     "output_type": "execute_result"
    }
   ],
   "source": [
    "adder(3)"
   ]
  },
  {
   "cell_type": "code",
   "execution_count": 4,
   "id": "36f39dcf-2459-447b-9d2e-284aa4174440",
   "metadata": {},
   "outputs": [
    {
     "data": {
      "text/plain": [
       "7"
      ]
     },
     "execution_count": 4,
     "metadata": {},
     "output_type": "execute_result"
    }
   ],
   "source": [
    "adder(4)"
   ]
  },
  {
   "cell_type": "code",
   "execution_count": 5,
   "id": "6e33498e-e82d-452b-b65f-c57afc6ab4d6",
   "metadata": {},
   "outputs": [
    {
     "data": {
      "text/plain": [
       "12"
      ]
     },
     "execution_count": 5,
     "metadata": {},
     "output_type": "execute_result"
    }
   ],
   "source": [
    "adder(5)"
   ]
  },
  {
   "cell_type": "code",
   "execution_count": null,
   "id": "42098621-08fa-41ee-a302-2c93ccf182ce",
   "metadata": {},
   "outputs": [],
   "source": []
  },
  {
   "cell_type": "code",
   "execution_count": 6,
   "id": "b090a1bf-daba-422f-88ba-bb69e07e0234",
   "metadata": {},
   "outputs": [],
   "source": [
    "result1 = 0\n",
    "result2 = 0"
   ]
  },
  {
   "cell_type": "code",
   "execution_count": 7,
   "id": "5a530371-ba07-4053-a993-d0e62568d8d9",
   "metadata": {},
   "outputs": [],
   "source": [
    "def adder1(num):\n",
    "    global result1\n",
    "    result1 += num \n",
    "    return result1"
   ]
  },
  {
   "cell_type": "code",
   "execution_count": 8,
   "id": "2a820dfb-b5e7-42e5-8d99-6c63d116b45d",
   "metadata": {},
   "outputs": [],
   "source": [
    "def adder2(num):\n",
    "    global result2\n",
    "    result2 += num \n",
    "    return result2"
   ]
  },
  {
   "cell_type": "code",
   "execution_count": 9,
   "id": "891ed2eb-5c5c-4d2b-96c1-b614fe0c8bbd",
   "metadata": {},
   "outputs": [
    {
     "data": {
      "text/plain": [
       "3"
      ]
     },
     "execution_count": 9,
     "metadata": {},
     "output_type": "execute_result"
    }
   ],
   "source": [
    "adder1(3)"
   ]
  },
  {
   "cell_type": "code",
   "execution_count": 10,
   "id": "82e22281-19d6-4367-968a-ad79973f8721",
   "metadata": {},
   "outputs": [
    {
     "data": {
      "text/plain": [
       "7"
      ]
     },
     "execution_count": 10,
     "metadata": {},
     "output_type": "execute_result"
    }
   ],
   "source": [
    "adder1(4)"
   ]
  },
  {
   "cell_type": "code",
   "execution_count": 11,
   "id": "da97874b-c94b-458f-867a-60f960225003",
   "metadata": {},
   "outputs": [
    {
     "data": {
      "text/plain": [
       "3"
      ]
     },
     "execution_count": 11,
     "metadata": {},
     "output_type": "execute_result"
    }
   ],
   "source": [
    "adder2(3)"
   ]
  },
  {
   "cell_type": "code",
   "execution_count": 12,
   "id": "a76f21b1-5742-498c-a103-bb1aa57bd7a7",
   "metadata": {},
   "outputs": [
    {
     "data": {
      "text/plain": [
       "10"
      ]
     },
     "execution_count": 12,
     "metadata": {},
     "output_type": "execute_result"
    }
   ],
   "source": [
    "adder2(7)"
   ]
  },
  {
   "cell_type": "code",
   "execution_count": null,
   "id": "d4f11198-5def-49a9-8179-bbc58329e350",
   "metadata": {},
   "outputs": [],
   "source": []
  },
  {
   "cell_type": "code",
   "execution_count": 13,
   "id": "ae6cf489-12fa-42b7-bce0-34b9916896fc",
   "metadata": {},
   "outputs": [],
   "source": [
    "class Calculator:\n",
    "    def __init__(self):\n",
    "        self.result = 0\n",
    "\n",
    "    def adder(self, num):\n",
    "        self.result += num\n",
    "        return self.result"
   ]
  },
  {
   "cell_type": "code",
   "execution_count": 16,
   "id": "9d30b92b-0c7d-4590-8ce7-7ceecbd7277e",
   "metadata": {},
   "outputs": [],
   "source": [
    "cal1 = Calculator()"
   ]
  },
  {
   "cell_type": "code",
   "execution_count": 17,
   "id": "cc5e7da7-2391-470a-8ded-8a611073b28a",
   "metadata": {},
   "outputs": [
    {
     "data": {
      "text/plain": [
       "3"
      ]
     },
     "execution_count": 17,
     "metadata": {},
     "output_type": "execute_result"
    }
   ],
   "source": [
    "cal1.adder(3)"
   ]
  },
  {
   "cell_type": "code",
   "execution_count": 19,
   "id": "47478a28-76a3-46c1-8afd-aa57a0ca0f76",
   "metadata": {},
   "outputs": [
    {
     "data": {
      "text/plain": [
       "7"
      ]
     },
     "execution_count": 19,
     "metadata": {},
     "output_type": "execute_result"
    }
   ],
   "source": [
    "cal1.adder(4)"
   ]
  },
  {
   "cell_type": "code",
   "execution_count": 20,
   "id": "54e86d3b-617a-438f-89fd-fea593bc4528",
   "metadata": {},
   "outputs": [],
   "source": [
    "cal2 = Calculator()"
   ]
  },
  {
   "cell_type": "code",
   "execution_count": 21,
   "id": "449829e3-d3dc-4793-83a4-68a725ca4a68",
   "metadata": {},
   "outputs": [
    {
     "data": {
      "text/plain": [
       "3"
      ]
     },
     "execution_count": 21,
     "metadata": {},
     "output_type": "execute_result"
    }
   ],
   "source": [
    "cal2.adder(3)"
   ]
  },
  {
   "cell_type": "code",
   "execution_count": 22,
   "id": "37c0991b-9e38-4dc6-8cdc-018cfdc33abc",
   "metadata": {},
   "outputs": [
    {
     "data": {
      "text/plain": [
       "10"
      ]
     },
     "execution_count": 22,
     "metadata": {},
     "output_type": "execute_result"
    }
   ],
   "source": [
    "cal2.adder(7)"
   ]
  },
  {
   "cell_type": "code",
   "execution_count": null,
   "id": "240ea338-10c0-4074-820f-479c2192e692",
   "metadata": {},
   "outputs": [],
   "source": []
  },
  {
   "cell_type": "code",
   "execution_count": 23,
   "id": "f6877708-a903-4281-ad06-ea2dc55411c9",
   "metadata": {},
   "outputs": [],
   "source": [
    "class Service:\n",
    "    secret = \"지구는 4006년에 멸망한다.\""
   ]
  },
  {
   "cell_type": "code",
   "execution_count": 26,
   "id": "7be29391-9dd4-4f61-b452-9789bf258b8c",
   "metadata": {},
   "outputs": [],
   "source": [
    "an = Service()"
   ]
  },
  {
   "cell_type": "code",
   "execution_count": 27,
   "id": "fdd1f79a-c369-4064-8925-efd6700b2706",
   "metadata": {},
   "outputs": [
    {
     "data": {
      "text/plain": [
       "'지구는 4006년에 멸망한다.'"
      ]
     },
     "execution_count": 27,
     "metadata": {},
     "output_type": "execute_result"
    }
   ],
   "source": [
    "an.secret"
   ]
  },
  {
   "cell_type": "code",
   "execution_count": 28,
   "id": "46e0e957-b8b7-471f-9cea-9dcee059e760",
   "metadata": {},
   "outputs": [
    {
     "data": {
      "text/plain": [
       "'지구는 4006년에 멸망한다.'"
      ]
     },
     "execution_count": 28,
     "metadata": {},
     "output_type": "execute_result"
    }
   ],
   "source": [
    "Service.secret #직접 접근도 가능하다"
   ]
  },
  {
   "cell_type": "code",
   "execution_count": 31,
   "id": "6a7048de-81f0-4116-b08d-ecb40cdf3fbe",
   "metadata": {},
   "outputs": [],
   "source": [
    "Service.secret = \"지구가 4006년에 멸망한다는 사실은 뻥이다.\""
   ]
  },
  {
   "cell_type": "code",
   "execution_count": 32,
   "id": "887b790b-dbc1-4316-b72a-2f0a8ddf44a3",
   "metadata": {},
   "outputs": [
    {
     "data": {
      "text/plain": [
       "'지구가 4006년에 멸망한다는 사실은 뻥이다.'"
      ]
     },
     "execution_count": 32,
     "metadata": {},
     "output_type": "execute_result"
    }
   ],
   "source": [
    "an.secret"
   ]
  },
  {
   "cell_type": "code",
   "execution_count": 33,
   "id": "1569477a-b1f5-4782-a77a-f9e1aeddf789",
   "metadata": {},
   "outputs": [],
   "source": [
    "Service.secret = \"지구는 4006년에 멸망한다.\""
   ]
  },
  {
   "cell_type": "code",
   "execution_count": 34,
   "id": "c3c0ba26-0c4e-4b6a-93b2-9c43f769aca7",
   "metadata": {},
   "outputs": [
    {
     "data": {
      "text/plain": [
       "'지구는 4006년에 멸망한다.'"
      ]
     },
     "execution_count": 34,
     "metadata": {},
     "output_type": "execute_result"
    }
   ],
   "source": [
    "an.secret"
   ]
  },
  {
   "cell_type": "code",
   "execution_count": null,
   "id": "63186a69-1ff7-4ef1-8c02-5a935759b2a4",
   "metadata": {},
   "outputs": [],
   "source": []
  }
 ],
 "metadata": {
  "kernelspec": {
   "display_name": "Python 3 (ipykernel)",
   "language": "python",
   "name": "python3"
  },
  "language_info": {
   "codemirror_mode": {
    "name": "ipython",
    "version": 3
   },
   "file_extension": ".py",
   "mimetype": "text/x-python",
   "name": "python",
   "nbconvert_exporter": "python",
   "pygments_lexer": "ipython3",
   "version": "3.13.2"
  }
 },
 "nbformat": 4,
 "nbformat_minor": 5
}
