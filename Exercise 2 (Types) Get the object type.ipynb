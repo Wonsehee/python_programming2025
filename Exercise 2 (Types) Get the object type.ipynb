{
 "cells": [
  {
   "cell_type": "code",
   "execution_count": null,
   "id": "20f1cbb8-72e3-48f0-b62a-1efad3e955e3",
   "metadata": {},
   "outputs": [],
   "source": [
    "#원세희 2024141422"
   ]
  },
  {
   "cell_type": "code",
   "execution_count": 1,
   "id": "785031e2-29ac-44d8-8d81-54a921f06f00",
   "metadata": {},
   "outputs": [
    {
     "data": {
      "text/plain": [
       "float"
      ]
     },
     "execution_count": 1,
     "metadata": {},
     "output_type": "execute_result"
    }
   ],
   "source": [
    "type(12.0)\n"
   ]
  },
  {
   "cell_type": "code",
   "execution_count": null,
   "id": "a3836877-e102-4dcc-8aee-38cb48b3ec82",
   "metadata": {},
   "outputs": [],
   "source": []
  }
 ],
 "metadata": {
  "kernelspec": {
   "display_name": "Python 3 (ipykernel)",
   "language": "python",
   "name": "python3"
  },
  "language_info": {
   "codemirror_mode": {
    "name": "ipython",
    "version": 3
   },
   "file_extension": ".py",
   "mimetype": "text/x-python",
   "name": "python",
   "nbconvert_exporter": "python",
   "pygments_lexer": "ipython3",
   "version": "3.13.2"
  }
 },
 "nbformat": 4,
 "nbformat_minor": 5
}
