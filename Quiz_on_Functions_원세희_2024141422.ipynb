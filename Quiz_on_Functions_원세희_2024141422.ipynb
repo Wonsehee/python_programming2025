{
  "nbformat": 4,
  "nbformat_minor": 0,
  "metadata": {
    "colab": {
      "provenance": [],
      "authorship_tag": "ABX9TyON277RvIvHaUVPdS/zR4S3",
      "include_colab_link": true
    },
    "kernelspec": {
      "name": "python3",
      "display_name": "Python 3"
    },
    "language_info": {
      "name": "python"
    }
  },
  "cells": [
    {
      "cell_type": "markdown",
      "metadata": {
        "id": "view-in-github",
        "colab_type": "text"
      },
      "source": [
        "<a href=\"https://colab.research.google.com/github/Wonsehee/python_programming2025/blob/6%EC%A3%BC%EC%B0%A8/Quiz_on_Functions_%EC%9B%90%EC%84%B8%ED%9D%AC_2024141422.ipynb\" target=\"_parent\"><img src=\"https://colab.research.google.com/assets/colab-badge.svg\" alt=\"Open In Colab\"/></a>"
      ]
    },
    {
      "cell_type": "code",
      "execution_count": null,
      "metadata": {
        "id": "CdWile4vKfNz"
      },
      "outputs": [],
      "source": [
        "#6주차 원세희 2024141422"
      ]
    },
    {
      "cell_type": "code",
      "source": [
        "def div(a, b):\n",
        "    return(a/b)"
      ],
      "metadata": {
        "id": "X_CUzZHlKmoI"
      },
      "execution_count": 2,
      "outputs": []
    },
    {
      "cell_type": "code",
      "source": [
        "def con(a, b):\n",
        "    return(a + b)\n",
        "#yes, for example:\n",
        "con(2, 2)"
      ],
      "metadata": {
        "colab": {
          "base_uri": "https://localhost:8080/"
        },
        "id": "noe3j8msLgNa",
        "outputId": "8fc1992b-bf6d-411d-d40e-47da74179ee2"
      },
      "execution_count": 3,
      "outputs": [
        {
          "output_type": "execute_result",
          "data": {
            "text/plain": [
              "4"
            ]
          },
          "metadata": {},
          "execution_count": 3
        }
      ]
    },
    {
      "cell_type": "code",
      "source": [
        "def con(a, b):\n",
        "    return(a + b)\n",
        "#yes,for example:\n",
        "con(['a', 1], ['b', 1])"
      ],
      "metadata": {
        "colab": {
          "base_uri": "https://localhost:8080/"
        },
        "id": "8DpDqtHSL14c",
        "outputId": "0da9e057-6f9a-48db-87bc-9c4894e1fd54"
      },
      "execution_count": 5,
      "outputs": [
        {
          "output_type": "execute_result",
          "data": {
            "text/plain": [
              "['a', 1, 'b', 1]"
            ]
          },
          "metadata": {},
          "execution_count": 5
        }
      ]
    }
  ]
}